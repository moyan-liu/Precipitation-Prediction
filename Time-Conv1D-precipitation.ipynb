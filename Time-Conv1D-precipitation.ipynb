{
 "cells": [
  {
   "cell_type": "code",
   "execution_count": 1,
   "id": "dda4e3c9",
   "metadata": {},
   "outputs": [],
   "source": [
    "import tensorflow as tf\n",
    "import pandas as pd\n",
    "import numpy as np\n",
    "import os\n",
    "import matplotlib.pyplot as plt\n",
    "\n",
    "\n",
    "from tensorflow.keras.models import Sequential\n",
    "from tensorflow.keras.layers import *\n",
    "from tensorflow.keras.callbacks import ModelCheckpoint\n",
    "from tensorflow.keras.losses import MeanSquaredError\n",
    "from tensorflow.keras.metrics import RootMeanSquaredError\n",
    "from sklearn.metrics import mean_squared_error as mse\n",
    "from tensorflow.keras.optimizers import Adam"
   ]
  },
  {
   "cell_type": "code",
   "execution_count": 2,
   "id": "c8ef50b7",
   "metadata": {},
   "outputs": [
    {
     "name": "stdout",
     "output_type": "stream",
     "text": [
      "(13516, 10)\n"
     ]
    },
    {
     "data": {
      "text/html": [
       "<div>\n",
       "<style scoped>\n",
       "    .dataframe tbody tr th:only-of-type {\n",
       "        vertical-align: middle;\n",
       "    }\n",
       "\n",
       "    .dataframe tbody tr th {\n",
       "        vertical-align: top;\n",
       "    }\n",
       "\n",
       "    .dataframe thead th {\n",
       "        text-align: right;\n",
       "    }\n",
       "</style>\n",
       "<table border=\"1\" class=\"dataframe\">\n",
       "  <thead>\n",
       "    <tr style=\"text-align: right;\">\n",
       "      <th></th>\n",
       "      <th>YEAR</th>\n",
       "      <th>MO</th>\n",
       "      <th>DY</th>\n",
       "      <th>PS</th>\n",
       "      <th>PRECTOTCORR</th>\n",
       "      <th>T2M</th>\n",
       "      <th>QV2M</th>\n",
       "      <th>ALLSKY_SFC_SW_DWN</th>\n",
       "      <th>WS50M</th>\n",
       "      <th>ALLSKY_SFC_PAR_TOT</th>\n",
       "    </tr>\n",
       "  </thead>\n",
       "  <tbody>\n",
       "    <tr>\n",
       "      <th>0</th>\n",
       "      <td>1984</td>\n",
       "      <td>1</td>\n",
       "      <td>1</td>\n",
       "      <td>74.75</td>\n",
       "      <td>0.17</td>\n",
       "      <td>8.19</td>\n",
       "      <td>4.88</td>\n",
       "      <td>5.26</td>\n",
       "      <td>1.19</td>\n",
       "      <td>98.7</td>\n",
       "    </tr>\n",
       "    <tr>\n",
       "      <th>1</th>\n",
       "      <td>1984</td>\n",
       "      <td>1</td>\n",
       "      <td>2</td>\n",
       "      <td>74.68</td>\n",
       "      <td>1.18</td>\n",
       "      <td>7.11</td>\n",
       "      <td>5.31</td>\n",
       "      <td>4.80</td>\n",
       "      <td>2.26</td>\n",
       "      <td>93.7</td>\n",
       "    </tr>\n",
       "    <tr>\n",
       "      <th>2</th>\n",
       "      <td>1984</td>\n",
       "      <td>1</td>\n",
       "      <td>3</td>\n",
       "      <td>74.68</td>\n",
       "      <td>1.97</td>\n",
       "      <td>7.11</td>\n",
       "      <td>6.41</td>\n",
       "      <td>3.61</td>\n",
       "      <td>2.53</td>\n",
       "      <td>72.3</td>\n",
       "    </tr>\n",
       "    <tr>\n",
       "      <th>3</th>\n",
       "      <td>1984</td>\n",
       "      <td>1</td>\n",
       "      <td>4</td>\n",
       "      <td>74.76</td>\n",
       "      <td>0.13</td>\n",
       "      <td>8.51</td>\n",
       "      <td>6.90</td>\n",
       "      <td>3.57</td>\n",
       "      <td>1.98</td>\n",
       "      <td>71.6</td>\n",
       "    </tr>\n",
       "    <tr>\n",
       "      <th>4</th>\n",
       "      <td>1984</td>\n",
       "      <td>1</td>\n",
       "      <td>5</td>\n",
       "      <td>74.75</td>\n",
       "      <td>0.02</td>\n",
       "      <td>10.40</td>\n",
       "      <td>6.84</td>\n",
       "      <td>4.91</td>\n",
       "      <td>1.44</td>\n",
       "      <td>95.5</td>\n",
       "    </tr>\n",
       "  </tbody>\n",
       "</table>\n",
       "</div>"
      ],
      "text/plain": [
       "   YEAR  MO  DY     PS  PRECTOTCORR    T2M  QV2M  ALLSKY_SFC_SW_DWN  WS50M  \\\n",
       "0  1984   1   1  74.75         0.17   8.19  4.88               5.26   1.19   \n",
       "1  1984   1   2  74.68         1.18   7.11  5.31               4.80   2.26   \n",
       "2  1984   1   3  74.68         1.97   7.11  6.41               3.61   2.53   \n",
       "3  1984   1   4  74.76         0.13   8.51  6.90               3.57   1.98   \n",
       "4  1984   1   5  74.75         0.02  10.40  6.84               4.91   1.44   \n",
       "\n",
       "   ALLSKY_SFC_PAR_TOT  \n",
       "0                98.7  \n",
       "1                93.7  \n",
       "2                72.3  \n",
       "3                71.6  \n",
       "4                95.5  "
      ]
     },
     "execution_count": 2,
     "metadata": {},
     "output_type": "execute_result"
    }
   ],
   "source": [
    "df = pd.read_csv('/Users/omniscience/Desktop/project/ML/ing/data/1984-2021_mc.csv')\n",
    "print(df.shape)\n",
    "df.head()"
   ]
  },
  {
   "cell_type": "code",
   "execution_count": 3,
   "id": "f5d459af",
   "metadata": {},
   "outputs": [
    {
     "data": {
      "text/plain": [
       "DatetimeIndex(['1984-01-01', '1984-01-02', '1984-01-03', '1984-01-04',\n",
       "               '1984-01-05', '1984-01-06', '1984-01-07', '1984-01-08',\n",
       "               '1984-01-09', '1984-01-10',\n",
       "               ...\n",
       "               '2020-12-23', '2020-12-24', '2020-12-25', '2020-12-26',\n",
       "               '2020-12-27', '2020-12-28', '2020-12-29', '2020-12-30',\n",
       "               '2020-12-31', '2021-01-01'],\n",
       "              dtype='datetime64[ns]', name='date', length=13516, freq=None)"
      ]
     },
     "execution_count": 3,
     "metadata": {},
     "output_type": "execute_result"
    }
   ],
   "source": [
    "df['date'] = df['YEAR'].map(str)+\"/\"+df['MO'].map(str)+\"/\"+df['DY'].map(str)\n",
    "pd.to_datetime(df['date'])\n",
    "df.index = pd.to_datetime(df['date'],format='%Y-%m-%d')\n",
    "df.index"
   ]
  },
  {
   "cell_type": "code",
   "execution_count": null,
   "id": "0b46ca5e",
   "metadata": {},
   "outputs": [],
   "source": []
  },
  {
   "cell_type": "code",
   "execution_count": 4,
   "id": "6c0ee624",
   "metadata": {},
   "outputs": [
    {
     "data": {
      "text/html": [
       "<div>\n",
       "<style scoped>\n",
       "    .dataframe tbody tr th:only-of-type {\n",
       "        vertical-align: middle;\n",
       "    }\n",
       "\n",
       "    .dataframe tbody tr th {\n",
       "        vertical-align: top;\n",
       "    }\n",
       "\n",
       "    .dataframe thead th {\n",
       "        text-align: right;\n",
       "    }\n",
       "</style>\n",
       "<table border=\"1\" class=\"dataframe\">\n",
       "  <thead>\n",
       "    <tr style=\"text-align: right;\">\n",
       "      <th></th>\n",
       "      <th>Precipitation</th>\n",
       "      <th>Second</th>\n",
       "    </tr>\n",
       "    <tr>\n",
       "      <th>date</th>\n",
       "      <th></th>\n",
       "      <th></th>\n",
       "    </tr>\n",
       "  </thead>\n",
       "  <tbody>\n",
       "    <tr>\n",
       "      <th>1984-01-01</th>\n",
       "      <td>0.17</td>\n",
       "      <td>4.417632e+08</td>\n",
       "    </tr>\n",
       "    <tr>\n",
       "      <th>1984-01-02</th>\n",
       "      <td>1.18</td>\n",
       "      <td>4.418496e+08</td>\n",
       "    </tr>\n",
       "    <tr>\n",
       "      <th>1984-01-03</th>\n",
       "      <td>1.97</td>\n",
       "      <td>4.419360e+08</td>\n",
       "    </tr>\n",
       "    <tr>\n",
       "      <th>1984-01-04</th>\n",
       "      <td>0.13</td>\n",
       "      <td>4.420224e+08</td>\n",
       "    </tr>\n",
       "    <tr>\n",
       "      <th>1984-01-05</th>\n",
       "      <td>0.02</td>\n",
       "      <td>4.421088e+08</td>\n",
       "    </tr>\n",
       "    <tr>\n",
       "      <th>...</th>\n",
       "      <td>...</td>\n",
       "      <td>...</td>\n",
       "    </tr>\n",
       "    <tr>\n",
       "      <th>2020-12-28</th>\n",
       "      <td>0.00</td>\n",
       "      <td>1.609114e+09</td>\n",
       "    </tr>\n",
       "    <tr>\n",
       "      <th>2020-12-29</th>\n",
       "      <td>0.00</td>\n",
       "      <td>1.609200e+09</td>\n",
       "    </tr>\n",
       "    <tr>\n",
       "      <th>2020-12-30</th>\n",
       "      <td>0.25</td>\n",
       "      <td>1.609286e+09</td>\n",
       "    </tr>\n",
       "    <tr>\n",
       "      <th>2020-12-31</th>\n",
       "      <td>0.00</td>\n",
       "      <td>1.609373e+09</td>\n",
       "    </tr>\n",
       "    <tr>\n",
       "      <th>2021-01-01</th>\n",
       "      <td>0.00</td>\n",
       "      <td>1.609459e+09</td>\n",
       "    </tr>\n",
       "  </tbody>\n",
       "</table>\n",
       "<p>13516 rows × 2 columns</p>\n",
       "</div>"
      ],
      "text/plain": [
       "            Precipitation        Second\n",
       "date                                   \n",
       "1984-01-01           0.17  4.417632e+08\n",
       "1984-01-02           1.18  4.418496e+08\n",
       "1984-01-03           1.97  4.419360e+08\n",
       "1984-01-04           0.13  4.420224e+08\n",
       "1984-01-05           0.02  4.421088e+08\n",
       "...                   ...           ...\n",
       "2020-12-28           0.00  1.609114e+09\n",
       "2020-12-29           0.00  1.609200e+09\n",
       "2020-12-30           0.25  1.609286e+09\n",
       "2020-12-31           0.00  1.609373e+09\n",
       "2021-01-01           0.00  1.609459e+09\n",
       "\n",
       "[13516 rows x 2 columns]"
      ]
     },
     "execution_count": 4,
     "metadata": {},
     "output_type": "execute_result"
    }
   ],
   "source": [
    "precip = df['PRECTOTCORR']\n",
    "precip_df = pd.DataFrame({'Precipitation': precip})\n",
    "precip_df['Second'] = precip_df.index.map(pd.Timestamp.timestamp)\n",
    "precip_df"
   ]
  },
  {
   "cell_type": "code",
   "execution_count": 5,
   "id": "39ce11d4",
   "metadata": {},
   "outputs": [],
   "source": [
    "def df_to_x_y(df,window_size): # x天预测\n",
    "    df_as_np = df.to_numpy()\n",
    "    x = []\n",
    "    y = []\n",
    "    for i in range(len(df_as_np) - window_size):\n",
    "        row = [[a] for a in df_as_np[i:i + window_size]]\n",
    "        x.append(row)\n",
    "        label = df_as_np[i + window_size]\n",
    "        y.append(label)\n",
    "    return np.array(x),np.array(y)"
   ]
  },
  {
   "cell_type": "code",
   "execution_count": 6,
   "id": "ca6ef2a5",
   "metadata": {},
   "outputs": [
    {
     "data": {
      "text/plain": [
       "((13511, 5, 1), (13511,))"
      ]
     },
     "execution_count": 6,
     "metadata": {},
     "output_type": "execute_result"
    }
   ],
   "source": [
    "windowsize = 5\n",
    "x,y = df_to_x_y(precip,windowsize)\n",
    "x.shape,y.shape"
   ]
  },
  {
   "cell_type": "code",
   "execution_count": 7,
   "id": "36c9e80b",
   "metadata": {},
   "outputs": [
    {
     "data": {
      "text/html": [
       "<div>\n",
       "<style scoped>\n",
       "    .dataframe tbody tr th:only-of-type {\n",
       "        vertical-align: middle;\n",
       "    }\n",
       "\n",
       "    .dataframe tbody tr th {\n",
       "        vertical-align: top;\n",
       "    }\n",
       "\n",
       "    .dataframe thead th {\n",
       "        text-align: right;\n",
       "    }\n",
       "</style>\n",
       "<table border=\"1\" class=\"dataframe\">\n",
       "  <thead>\n",
       "    <tr style=\"text-align: right;\">\n",
       "      <th></th>\n",
       "      <th>Precipitation</th>\n",
       "      <th>Second</th>\n",
       "      <th>Year sin</th>\n",
       "      <th>Year cos</th>\n",
       "    </tr>\n",
       "    <tr>\n",
       "      <th>date</th>\n",
       "      <th></th>\n",
       "      <th></th>\n",
       "      <th></th>\n",
       "      <th></th>\n",
       "    </tr>\n",
       "  </thead>\n",
       "  <tbody>\n",
       "    <tr>\n",
       "      <th>1984-01-01</th>\n",
       "      <td>0.17</td>\n",
       "      <td>441763200.0</td>\n",
       "      <td>-0.006795</td>\n",
       "      <td>0.999977</td>\n",
       "    </tr>\n",
       "    <tr>\n",
       "      <th>1984-01-02</th>\n",
       "      <td>1.18</td>\n",
       "      <td>441849600.0</td>\n",
       "      <td>0.010407</td>\n",
       "      <td>0.999946</td>\n",
       "    </tr>\n",
       "    <tr>\n",
       "      <th>1984-01-03</th>\n",
       "      <td>1.97</td>\n",
       "      <td>441936000.0</td>\n",
       "      <td>0.027607</td>\n",
       "      <td>0.999619</td>\n",
       "    </tr>\n",
       "    <tr>\n",
       "      <th>1984-01-04</th>\n",
       "      <td>0.13</td>\n",
       "      <td>442022400.0</td>\n",
       "      <td>0.044798</td>\n",
       "      <td>0.998996</td>\n",
       "    </tr>\n",
       "    <tr>\n",
       "      <th>1984-01-05</th>\n",
       "      <td>0.02</td>\n",
       "      <td>442108800.0</td>\n",
       "      <td>0.061976</td>\n",
       "      <td>0.998078</td>\n",
       "    </tr>\n",
       "  </tbody>\n",
       "</table>\n",
       "</div>"
      ],
      "text/plain": [
       "            Precipitation       Second  Year sin  Year cos\n",
       "date                                                      \n",
       "1984-01-01           0.17  441763200.0 -0.006795  0.999977\n",
       "1984-01-02           1.18  441849600.0  0.010407  0.999946\n",
       "1984-01-03           1.97  441936000.0  0.027607  0.999619\n",
       "1984-01-04           0.13  442022400.0  0.044798  0.998996\n",
       "1984-01-05           0.02  442108800.0  0.061976  0.998078"
      ]
     },
     "execution_count": 7,
     "metadata": {},
     "output_type": "execute_result"
    }
   ],
   "source": [
    "day = 60*60*24\n",
    "year = 365.2425 * day\n",
    "\n",
    "precip_df['Year sin'] = np.sin(precip_df['Second'] * (2* np.pi / year))\n",
    "precip_df['Year cos'] = np.cos(precip_df['Second'] * (2* np.pi / year))\n",
    "precip_df.head()"
   ]
  },
  {
   "cell_type": "code",
   "execution_count": 8,
   "id": "500364ce",
   "metadata": {},
   "outputs": [
    {
     "data": {
      "text/html": [
       "<div>\n",
       "<style scoped>\n",
       "    .dataframe tbody tr th:only-of-type {\n",
       "        vertical-align: middle;\n",
       "    }\n",
       "\n",
       "    .dataframe tbody tr th {\n",
       "        vertical-align: top;\n",
       "    }\n",
       "\n",
       "    .dataframe thead th {\n",
       "        text-align: right;\n",
       "    }\n",
       "</style>\n",
       "<table border=\"1\" class=\"dataframe\">\n",
       "  <thead>\n",
       "    <tr style=\"text-align: right;\">\n",
       "      <th></th>\n",
       "      <th>Precipitation</th>\n",
       "      <th>Year sin</th>\n",
       "      <th>Year cos</th>\n",
       "    </tr>\n",
       "    <tr>\n",
       "      <th>date</th>\n",
       "      <th></th>\n",
       "      <th></th>\n",
       "      <th></th>\n",
       "    </tr>\n",
       "  </thead>\n",
       "  <tbody>\n",
       "    <tr>\n",
       "      <th>1984-01-01</th>\n",
       "      <td>0.17</td>\n",
       "      <td>-0.006795</td>\n",
       "      <td>0.999977</td>\n",
       "    </tr>\n",
       "    <tr>\n",
       "      <th>1984-01-02</th>\n",
       "      <td>1.18</td>\n",
       "      <td>0.010407</td>\n",
       "      <td>0.999946</td>\n",
       "    </tr>\n",
       "    <tr>\n",
       "      <th>1984-01-03</th>\n",
       "      <td>1.97</td>\n",
       "      <td>0.027607</td>\n",
       "      <td>0.999619</td>\n",
       "    </tr>\n",
       "    <tr>\n",
       "      <th>1984-01-04</th>\n",
       "      <td>0.13</td>\n",
       "      <td>0.044798</td>\n",
       "      <td>0.998996</td>\n",
       "    </tr>\n",
       "    <tr>\n",
       "      <th>1984-01-05</th>\n",
       "      <td>0.02</td>\n",
       "      <td>0.061976</td>\n",
       "      <td>0.998078</td>\n",
       "    </tr>\n",
       "    <tr>\n",
       "      <th>...</th>\n",
       "      <td>...</td>\n",
       "      <td>...</td>\n",
       "      <td>...</td>\n",
       "    </tr>\n",
       "    <tr>\n",
       "      <th>2020-12-28</th>\n",
       "      <td>0.00</td>\n",
       "      <td>-0.057898</td>\n",
       "      <td>0.998323</td>\n",
       "    </tr>\n",
       "    <tr>\n",
       "      <th>2020-12-29</th>\n",
       "      <td>0.00</td>\n",
       "      <td>-0.040716</td>\n",
       "      <td>0.999171</td>\n",
       "    </tr>\n",
       "    <tr>\n",
       "      <th>2020-12-30</th>\n",
       "      <td>0.25</td>\n",
       "      <td>-0.023523</td>\n",
       "      <td>0.999723</td>\n",
       "    </tr>\n",
       "    <tr>\n",
       "      <th>2020-12-31</th>\n",
       "      <td>0.00</td>\n",
       "      <td>-0.006322</td>\n",
       "      <td>0.999980</td>\n",
       "    </tr>\n",
       "    <tr>\n",
       "      <th>2021-01-01</th>\n",
       "      <td>0.00</td>\n",
       "      <td>0.010881</td>\n",
       "      <td>0.999941</td>\n",
       "    </tr>\n",
       "  </tbody>\n",
       "</table>\n",
       "<p>13516 rows × 3 columns</p>\n",
       "</div>"
      ],
      "text/plain": [
       "            Precipitation  Year sin  Year cos\n",
       "date                                         \n",
       "1984-01-01           0.17 -0.006795  0.999977\n",
       "1984-01-02           1.18  0.010407  0.999946\n",
       "1984-01-03           1.97  0.027607  0.999619\n",
       "1984-01-04           0.13  0.044798  0.998996\n",
       "1984-01-05           0.02  0.061976  0.998078\n",
       "...                   ...       ...       ...\n",
       "2020-12-28           0.00 -0.057898  0.998323\n",
       "2020-12-29           0.00 -0.040716  0.999171\n",
       "2020-12-30           0.25 -0.023523  0.999723\n",
       "2020-12-31           0.00 -0.006322  0.999980\n",
       "2021-01-01           0.00  0.010881  0.999941\n",
       "\n",
       "[13516 rows x 3 columns]"
      ]
     },
     "execution_count": 8,
     "metadata": {},
     "output_type": "execute_result"
    }
   ],
   "source": [
    "precip_df = precip_df.drop('Second', axis = 1)\n",
    "precip_df"
   ]
  },
  {
   "cell_type": "code",
   "execution_count": 9,
   "id": "6ce10479",
   "metadata": {},
   "outputs": [],
   "source": [
    "def df_to_x_y(df,window_size): # x天预测\n",
    "    df_as_np = df.to_numpy()\n",
    "    x = []\n",
    "    y = []\n",
    "    for i in range(len(df_as_np)-window_size):\n",
    "        row = [a for a in df_as_np[i:i+window_size]]\n",
    "        x.append(row)\n",
    "        label = df_as_np[i+window_size][0]\n",
    "        y.append(label)\n",
    "    return np.array(x),np.array(y)"
   ]
  },
  {
   "cell_type": "code",
   "execution_count": 10,
   "id": "eb627861",
   "metadata": {},
   "outputs": [
    {
     "data": {
      "text/plain": [
       "((13513, 3, 3), (13513,))"
      ]
     },
     "execution_count": 10,
     "metadata": {},
     "output_type": "execute_result"
    }
   ],
   "source": [
    "x , y = df_to_x_y(precip_df, 3)\n",
    "x.shape, y.shape"
   ]
  },
  {
   "cell_type": "code",
   "execution_count": 11,
   "id": "71bc9cbe",
   "metadata": {},
   "outputs": [
    {
     "data": {
      "text/plain": [
       "((11000, 3, 3), (11000,), (1000, 3, 3), (1000,), (1513, 3, 3), (1513,))"
      ]
     },
     "execution_count": 11,
     "metadata": {},
     "output_type": "execute_result"
    }
   ],
   "source": [
    "x_train, y_train = x[:11000],y[:11000]\n",
    "x_val, y_val = x[11000:12000],y[11000:12000]\n",
    "x_test, y_test = x[12000:],y[12000:]\n",
    "x_train.shape,y_train.shape,x_val.shape, y_val.shape,x_test.shape,y_test.shape"
   ]
  },
  {
   "cell_type": "code",
   "execution_count": 12,
   "id": "e3d41abf",
   "metadata": {},
   "outputs": [],
   "source": [
    "precip_train_mean = np.mean(x_train[:, :, 0])\n",
    "precip_train_std = np.std(x_train[:, :, 0])\n",
    "\n",
    "def preprocess(x):\n",
    "    x[:, :, 0] = (x[:, :, 0] - precip_train_mean)/precip_train_std\n",
    "    return x"
   ]
  },
  {
   "cell_type": "code",
   "execution_count": 13,
   "id": "1ff3d77b",
   "metadata": {},
   "outputs": [
    {
     "data": {
      "text/plain": [
       "array([[[ 3.56287253, -0.79474376,  0.6069451 ],\n",
       "        [ 2.91766551, -0.78418554,  0.62052642],\n",
       "        [ 0.91722914, -0.77339526,  0.6339241 ]]])"
      ]
     },
     "execution_count": 13,
     "metadata": {},
     "output_type": "execute_result"
    }
   ],
   "source": [
    "preprocess(x_train)[:1]\n",
    "preprocess(x_val)[:1]\n",
    "preprocess(x_test)[:1]"
   ]
  },
  {
   "cell_type": "code",
   "execution_count": 14,
   "id": "22ed3b66",
   "metadata": {},
   "outputs": [
    {
     "name": "stdout",
     "output_type": "stream",
     "text": [
      "Model: \"sequential\"\n",
      "_________________________________________________________________\n",
      " Layer (type)                Output Shape              Param #   \n",
      "=================================================================\n",
      " conv1d (Conv1D)             (None, 1, 64)             640       \n",
      "                                                                 \n",
      " flatten (Flatten)           (None, 64)                0         \n",
      "                                                                 \n",
      " dense (Dense)               (None, 8)                 520       \n",
      "                                                                 \n",
      " dense_1 (Dense)             (None, 1)                 9         \n",
      "                                                                 \n",
      "=================================================================\n",
      "Total params: 1,169\n",
      "Trainable params: 1,169\n",
      "Non-trainable params: 0\n",
      "_________________________________________________________________\n"
     ]
    },
    {
     "name": "stderr",
     "output_type": "stream",
     "text": [
      "2022-12-23 09:55:47.272145: I tensorflow/core/platform/cpu_feature_guard.cc:193] This TensorFlow binary is optimized with oneAPI Deep Neural Network Library (oneDNN) to use the following CPU instructions in performance-critical operations:  SSE4.1 SSE4.2 AVX AVX2 FMA\n",
      "To enable them in other operations, rebuild TensorFlow with the appropriate compiler flags.\n"
     ]
    }
   ],
   "source": [
    "model2 = Sequential()\n",
    "model2.add(InputLayer((3,3)))\n",
    "model2.add(Conv1D(64, kernel_size = 3))\n",
    "model2.add(Flatten())\n",
    "model2.add(Dense(8,'relu'))\n",
    "model2.add(Dense(1,'linear'))\n",
    "\n",
    "model2.summary()"
   ]
  },
  {
   "cell_type": "code",
   "execution_count": 26,
   "id": "d72f928e",
   "metadata": {},
   "outputs": [],
   "source": [
    "cp = ModelCheckpoint('model/',save_best_only = True)\n",
    "model2.compile(loss = MeanSquaredError(), \n",
    "                   optimizer = Adam(learning_rate = 0.0001), \n",
    "                   metrics = [RootMeanSquaredError()]\n",
    "              )"
   ]
  },
  {
   "cell_type": "code",
   "execution_count": 27,
   "id": "401697e5",
   "metadata": {
    "scrolled": true
   },
   "outputs": [
    {
     "name": "stdout",
     "output_type": "stream",
     "text": [
      "Epoch 1/10\n",
      "301/344 [=========================>....] - ETA: 0s - loss: 5.7813 - root_mean_squared_error: 2.4044"
     ]
    },
    {
     "name": "stderr",
     "output_type": "stream",
     "text": [
      "WARNING:absl:Found untraced functions such as _jit_compiled_convolution_op while saving (showing 1 of 1). These functions will not be directly callable after loading.\n"
     ]
    },
    {
     "name": "stdout",
     "output_type": "stream",
     "text": [
      "INFO:tensorflow:Assets written to: model/assets\n"
     ]
    },
    {
     "name": "stderr",
     "output_type": "stream",
     "text": [
      "INFO:tensorflow:Assets written to: model/assets\n"
     ]
    },
    {
     "name": "stdout",
     "output_type": "stream",
     "text": [
      "344/344 [==============================] - 1s 3ms/step - loss: 5.7871 - root_mean_squared_error: 2.4056 - val_loss: 5.7693 - val_root_mean_squared_error: 2.4019\n",
      "Epoch 2/10\n",
      "342/344 [============================>.] - ETA: 0s - loss: 5.7856 - root_mean_squared_error: 2.4053"
     ]
    },
    {
     "name": "stderr",
     "output_type": "stream",
     "text": [
      "WARNING:absl:Found untraced functions such as _jit_compiled_convolution_op while saving (showing 1 of 1). These functions will not be directly callable after loading.\n"
     ]
    },
    {
     "name": "stdout",
     "output_type": "stream",
     "text": [
      "INFO:tensorflow:Assets written to: model/assets\n"
     ]
    },
    {
     "name": "stderr",
     "output_type": "stream",
     "text": [
      "INFO:tensorflow:Assets written to: model/assets\n"
     ]
    },
    {
     "name": "stdout",
     "output_type": "stream",
     "text": [
      "344/344 [==============================] - 1s 3ms/step - loss: 5.7744 - root_mean_squared_error: 2.4030 - val_loss: 5.7438 - val_root_mean_squared_error: 2.3966\n",
      "Epoch 3/10\n",
      "344/344 [==============================] - ETA: 0s - loss: 5.7636 - root_mean_squared_error: 2.4008"
     ]
    },
    {
     "name": "stderr",
     "output_type": "stream",
     "text": [
      "WARNING:absl:Found untraced functions such as _jit_compiled_convolution_op while saving (showing 1 of 1). These functions will not be directly callable after loading.\n"
     ]
    },
    {
     "name": "stdout",
     "output_type": "stream",
     "text": [
      "INFO:tensorflow:Assets written to: model/assets\n"
     ]
    },
    {
     "name": "stderr",
     "output_type": "stream",
     "text": [
      "INFO:tensorflow:Assets written to: model/assets\n"
     ]
    },
    {
     "name": "stdout",
     "output_type": "stream",
     "text": [
      "344/344 [==============================] - 1s 3ms/step - loss: 5.7636 - root_mean_squared_error: 2.4008 - val_loss: 5.7350 - val_root_mean_squared_error: 2.3948\n",
      "Epoch 4/10\n",
      "336/344 [============================>.] - ETA: 0s - loss: 5.7495 - root_mean_squared_error: 2.3978"
     ]
    },
    {
     "name": "stderr",
     "output_type": "stream",
     "text": [
      "WARNING:absl:Found untraced functions such as _jit_compiled_convolution_op while saving (showing 1 of 1). These functions will not be directly callable after loading.\n"
     ]
    },
    {
     "name": "stdout",
     "output_type": "stream",
     "text": [
      "INFO:tensorflow:Assets written to: model/assets\n"
     ]
    },
    {
     "name": "stderr",
     "output_type": "stream",
     "text": [
      "INFO:tensorflow:Assets written to: model/assets\n"
     ]
    },
    {
     "name": "stdout",
     "output_type": "stream",
     "text": [
      "344/344 [==============================] - 1s 3ms/step - loss: 5.7574 - root_mean_squared_error: 2.3995 - val_loss: 5.7215 - val_root_mean_squared_error: 2.3920\n",
      "Epoch 5/10\n",
      "344/344 [==============================] - ETA: 0s - loss: 5.7543 - root_mean_squared_error: 2.3988"
     ]
    },
    {
     "name": "stderr",
     "output_type": "stream",
     "text": [
      "WARNING:absl:Found untraced functions such as _jit_compiled_convolution_op while saving (showing 1 of 1). These functions will not be directly callable after loading.\n"
     ]
    },
    {
     "name": "stdout",
     "output_type": "stream",
     "text": [
      "INFO:tensorflow:Assets written to: model/assets\n"
     ]
    },
    {
     "name": "stderr",
     "output_type": "stream",
     "text": [
      "INFO:tensorflow:Assets written to: model/assets\n"
     ]
    },
    {
     "name": "stdout",
     "output_type": "stream",
     "text": [
      "344/344 [==============================] - 1s 3ms/step - loss: 5.7543 - root_mean_squared_error: 2.3988 - val_loss: 5.6983 - val_root_mean_squared_error: 2.3871\n",
      "Epoch 6/10\n",
      "334/344 [============================>.] - ETA: 0s - loss: 5.6364 - root_mean_squared_error: 2.3741"
     ]
    },
    {
     "name": "stderr",
     "output_type": "stream",
     "text": [
      "WARNING:absl:Found untraced functions such as _jit_compiled_convolution_op while saving (showing 1 of 1). These functions will not be directly callable after loading.\n"
     ]
    },
    {
     "name": "stdout",
     "output_type": "stream",
     "text": [
      "INFO:tensorflow:Assets written to: model/assets\n"
     ]
    },
    {
     "name": "stderr",
     "output_type": "stream",
     "text": [
      "INFO:tensorflow:Assets written to: model/assets\n"
     ]
    },
    {
     "name": "stdout",
     "output_type": "stream",
     "text": [
      "344/344 [==============================] - 1s 3ms/step - loss: 5.7408 - root_mean_squared_error: 2.3960 - val_loss: 5.6816 - val_root_mean_squared_error: 2.3836\n",
      "Epoch 7/10\n",
      "314/344 [==========================>...] - ETA: 0s - loss: 5.8454 - root_mean_squared_error: 2.4177"
     ]
    },
    {
     "name": "stderr",
     "output_type": "stream",
     "text": [
      "WARNING:absl:Found untraced functions such as _jit_compiled_convolution_op while saving (showing 1 of 1). These functions will not be directly callable after loading.\n"
     ]
    },
    {
     "name": "stdout",
     "output_type": "stream",
     "text": [
      "INFO:tensorflow:Assets written to: model/assets\n"
     ]
    },
    {
     "name": "stderr",
     "output_type": "stream",
     "text": [
      "INFO:tensorflow:Assets written to: model/assets\n"
     ]
    },
    {
     "name": "stdout",
     "output_type": "stream",
     "text": [
      "344/344 [==============================] - 1s 3ms/step - loss: 5.7277 - root_mean_squared_error: 2.3933 - val_loss: 5.6728 - val_root_mean_squared_error: 2.3818\n",
      "Epoch 8/10\n",
      "329/344 [===========================>..] - ETA: 0s - loss: 5.7182 - root_mean_squared_error: 2.3913"
     ]
    },
    {
     "name": "stderr",
     "output_type": "stream",
     "text": [
      "WARNING:absl:Found untraced functions such as _jit_compiled_convolution_op while saving (showing 1 of 1). These functions will not be directly callable after loading.\n"
     ]
    },
    {
     "name": "stdout",
     "output_type": "stream",
     "text": [
      "INFO:tensorflow:Assets written to: model/assets\n"
     ]
    },
    {
     "name": "stderr",
     "output_type": "stream",
     "text": [
      "INFO:tensorflow:Assets written to: model/assets\n"
     ]
    },
    {
     "name": "stdout",
     "output_type": "stream",
     "text": [
      "344/344 [==============================] - 1s 4ms/step - loss: 5.7258 - root_mean_squared_error: 2.3929 - val_loss: 5.6486 - val_root_mean_squared_error: 2.3767\n",
      "Epoch 9/10\n",
      "304/344 [=========================>....] - ETA: 0s - loss: 5.7761 - root_mean_squared_error: 2.4034"
     ]
    },
    {
     "name": "stderr",
     "output_type": "stream",
     "text": [
      "WARNING:absl:Found untraced functions such as _jit_compiled_convolution_op while saving (showing 1 of 1). These functions will not be directly callable after loading.\n"
     ]
    },
    {
     "name": "stdout",
     "output_type": "stream",
     "text": [
      "INFO:tensorflow:Assets written to: model/assets\n"
     ]
    },
    {
     "name": "stderr",
     "output_type": "stream",
     "text": [
      "INFO:tensorflow:Assets written to: model/assets\n"
     ]
    },
    {
     "name": "stdout",
     "output_type": "stream",
     "text": [
      "344/344 [==============================] - 1s 2ms/step - loss: 5.7100 - root_mean_squared_error: 2.3896 - val_loss: 5.6290 - val_root_mean_squared_error: 2.3725\n",
      "Epoch 10/10\n",
      "344/344 [==============================] - 0s 1ms/step - loss: 5.7066 - root_mean_squared_error: 2.3888 - val_loss: 5.6301 - val_root_mean_squared_error: 2.3728\n"
     ]
    },
    {
     "data": {
      "text/plain": [
       "<keras.callbacks.History at 0x1751e58a0>"
      ]
     },
     "execution_count": 27,
     "metadata": {},
     "output_type": "execute_result"
    }
   ],
   "source": [
    "model2.fit(x_train, y_train, validation_data = (x_val, y_val), epochs = 10, callbacks = [cp])"
   ]
  },
  {
   "cell_type": "code",
   "execution_count": 28,
   "id": "83de9e82",
   "metadata": {},
   "outputs": [
    {
     "name": "stdout",
     "output_type": "stream",
     "text": [
      "48/48 [==============================] - 0s 818us/step\n"
     ]
    },
    {
     "data": {
      "text/html": [
       "<div>\n",
       "<style scoped>\n",
       "    .dataframe tbody tr th:only-of-type {\n",
       "        vertical-align: middle;\n",
       "    }\n",
       "\n",
       "    .dataframe tbody tr th {\n",
       "        vertical-align: top;\n",
       "    }\n",
       "\n",
       "    .dataframe thead th {\n",
       "        text-align: right;\n",
       "    }\n",
       "</style>\n",
       "<table border=\"1\" class=\"dataframe\">\n",
       "  <thead>\n",
       "    <tr style=\"text-align: right;\">\n",
       "      <th></th>\n",
       "      <th>Test Predicitions</th>\n",
       "      <th>Actuals</th>\n",
       "    </tr>\n",
       "  </thead>\n",
       "  <tbody>\n",
       "    <tr>\n",
       "      <th>0</th>\n",
       "      <td>3.486178</td>\n",
       "      <td>1.60</td>\n",
       "    </tr>\n",
       "    <tr>\n",
       "      <th>1</th>\n",
       "      <td>1.554211</td>\n",
       "      <td>0.69</td>\n",
       "    </tr>\n",
       "    <tr>\n",
       "      <th>2</th>\n",
       "      <td>0.888218</td>\n",
       "      <td>0.12</td>\n",
       "    </tr>\n",
       "    <tr>\n",
       "      <th>3</th>\n",
       "      <td>0.443799</td>\n",
       "      <td>0.45</td>\n",
       "    </tr>\n",
       "    <tr>\n",
       "      <th>4</th>\n",
       "      <td>0.474841</td>\n",
       "      <td>1.44</td>\n",
       "    </tr>\n",
       "    <tr>\n",
       "      <th>...</th>\n",
       "      <td>...</td>\n",
       "      <td>...</td>\n",
       "    </tr>\n",
       "    <tr>\n",
       "      <th>1508</th>\n",
       "      <td>0.166771</td>\n",
       "      <td>0.00</td>\n",
       "    </tr>\n",
       "    <tr>\n",
       "      <th>1509</th>\n",
       "      <td>0.166713</td>\n",
       "      <td>0.00</td>\n",
       "    </tr>\n",
       "    <tr>\n",
       "      <th>1510</th>\n",
       "      <td>0.166653</td>\n",
       "      <td>0.25</td>\n",
       "    </tr>\n",
       "    <tr>\n",
       "      <th>1511</th>\n",
       "      <td>0.233951</td>\n",
       "      <td>0.00</td>\n",
       "    </tr>\n",
       "    <tr>\n",
       "      <th>1512</th>\n",
       "      <td>0.183394</td>\n",
       "      <td>0.00</td>\n",
       "    </tr>\n",
       "  </tbody>\n",
       "</table>\n",
       "<p>1513 rows × 2 columns</p>\n",
       "</div>"
      ],
      "text/plain": [
       "      Test Predicitions  Actuals\n",
       "0              3.486178     1.60\n",
       "1              1.554211     0.69\n",
       "2              0.888218     0.12\n",
       "3              0.443799     0.45\n",
       "4              0.474841     1.44\n",
       "...                 ...      ...\n",
       "1508           0.166771     0.00\n",
       "1509           0.166713     0.00\n",
       "1510           0.166653     0.25\n",
       "1511           0.233951     0.00\n",
       "1512           0.183394     0.00\n",
       "\n",
       "[1513 rows x 2 columns]"
      ]
     },
     "execution_count": 28,
     "metadata": {},
     "output_type": "execute_result"
    }
   ],
   "source": [
    "test_predictions = model2.predict(x_test).flatten()\n",
    "test_results = pd.DataFrame(data = {'Test Predicitions': test_predictions, 'Actuals': y_test})\n",
    "test_results"
   ]
  },
  {
   "cell_type": "code",
   "execution_count": 29,
   "id": "2c0bcecf",
   "metadata": {},
   "outputs": [],
   "source": [
    "def plot_predictions (model, x, y, start = 0, end = 400):\n",
    "    prediction = model.predict(x).flatten()\n",
    "    df = pd.DataFrame(data = {'Predictions': test_predictions, 'Actuals': y})\n",
    "    plt.plot(df['Predictions'][start:end])\n",
    "    plt.plot(df['Actuals'][start:end])\n",
    "    plt.legend(['precip_prediction','precip_actual'],loc=0)\n",
    "    return df, mse(y,test_predictions)"
   ]
  },
  {
   "cell_type": "code",
   "execution_count": 30,
   "id": "4e0b0695",
   "metadata": {},
   "outputs": [
    {
     "name": "stdout",
     "output_type": "stream",
     "text": [
      "48/48 [==============================] - 0s 753us/step\n"
     ]
    },
    {
     "data": {
      "text/plain": [
       "(      Predictions  Actuals\n",
       " 0        3.486178     1.60\n",
       " 1        1.554211     0.69\n",
       " 2        0.888218     0.12\n",
       " 3        0.443799     0.45\n",
       " 4        0.474841     1.44\n",
       " ...           ...      ...\n",
       " 1508     0.166771     0.00\n",
       " 1509     0.166713     0.00\n",
       " 1510     0.166653     0.25\n",
       " 1511     0.233951     0.00\n",
       " 1512     0.183394     0.00\n",
       " \n",
       " [1513 rows x 2 columns],\n",
       " 4.4311626767090635)"
      ]
     },
     "execution_count": 30,
     "metadata": {},
     "output_type": "execute_result"
    },
    {
     "data": {
      "image/png": "[encoded data removed]",
      "text/plain": [
       "<Figure size 640x480 with 1 Axes>"
      ]
     },
     "metadata": {},
     "output_type": "display_data"
    }
   ],
   "source": [
    "plt.ylabel('Precipitation(mm/day)',fontsize = 12)\n",
    "plot_predictions(model2, x_test, y_test)"
   ]
  },
  {
   "cell_type": "code",
   "execution_count": 31,
   "id": "794863f5",
   "metadata": {},
   "outputs": [],
   "source": [
    "def postprocess_precip(arr):\n",
    "    arr = (arr * precip_train_std) + precip_train_mean\n",
    "    return arr"
   ]
  },
  {
   "cell_type": "code",
   "execution_count": 32,
   "id": "6cbacc47",
   "metadata": {},
   "outputs": [],
   "source": [
    "def plot_predictions2 (model2, x, y, start = 600, end = 800):\n",
    "    prediction = model2.predict(x)\n",
    "    precip_prediction = postprocess_precip(prediction[:,0])\n",
    "    precip_actual = postprocess_precip(y[:,])\n",
    "    df = pd.DataFrame(data = {'Precipitation Prediction': precip_prediction,\n",
    "                              'Precipitation Actual': precip_actual,\n",
    "                              })\n",
    "    plt.plot(df['Precipitation Prediction'][start:end], color = 'green')\n",
    "    plt.plot(df['Precipitation Actual'][start:end], color = 'red')\n",
    "    plt.legend(['precip_prediction','precip_actual'],loc=0)\n",
    "    return df[start:end]"
   ]
  },
  {
   "cell_type": "code",
   "execution_count": 33,
   "id": "5baedb00",
   "metadata": {},
   "outputs": [
    {
     "name": "stdout",
     "output_type": "stream",
     "text": [
      "48/48 [==============================] - 0s 818us/step\n"
     ]
    },
    {
     "data": {
      "text/plain": [
       "Text(0.5, 1.0, 'Test Data Comparison for Conv1D')"
      ]
     },
     "execution_count": 33,
     "metadata": {},
     "output_type": "execute_result"
    },
    {
     "data": {
      "image/png": "[encoded data removed]",
      "text/plain": [
       "<Figure size 640x480 with 1 Axes>"
      ]
     },
     "metadata": {},
     "output_type": "display_data"
    }
   ],
   "source": [
    "plot_predictions2(model2,x_test,y_test)\n",
    "plt.title('Test Data Comparison for Conv1D',fontsize = 16)"
   ]
  },
  {
   "cell_type": "code",
   "execution_count": 34,
   "id": "bd43a2f0",
   "metadata": {},
   "outputs": [
    {
     "name": "stdout",
     "output_type": "stream",
     "text": [
      "48/48 [==============================] - 0s 787us/step\n"
     ]
    },
    {
     "data": {
      "image/png": "[encoded data removed]",
      "text/plain": [
       "<Figure size 640x480 with 1 Axes>"
      ]
     },
     "metadata": {},
     "output_type": "display_data"
    }
   ],
   "source": [
    "Y_predict = model2.predict(x_test)\n",
    "plt.scatter(Y_predict, y_test,color = 'yellow')\n",
    "plt.xlabel('Predicted Values')\n",
    "plt.ylabel('True Values')\n",
    "plt.xlim(plt.xlim())\n",
    "plt.ylim(plt.ylim())\n",
    "_=plt.plot([-100,100],[-100,100],color = 'purple')"
   ]
  },
  {
   "cell_type": "code",
   "execution_count": 35,
   "id": "cc0d3497",
   "metadata": {},
   "outputs": [
    {
     "data": {
      "image/png": "[encoded data removed]",
      "text/plain": [
       "<Figure size 640x480 with 1 Axes>"
      ]
     },
     "metadata": {},
     "output_type": "display_data"
    }
   ],
   "source": [
    "error = Y_predict.reshape(1513,) - y_test\n",
    "plt.hist(error,bins = 100)\n",
    "plt.xlabel(\"Prediction Error\")\n",
    "plt.ylabel(\"Count\")\n",
    "_=plt.ylabel(\"Count\")"
   ]
  },
  {
   "cell_type": "code",
   "execution_count": 36,
   "id": "5f0c5bab",
   "metadata": {},
   "outputs": [
    {
     "data": {
      "text/plain": [
       "0.5395683191307112"
      ]
     },
     "execution_count": 36,
     "metadata": {},
     "output_type": "execute_result"
    }
   ],
   "source": [
    "from sklearn.metrics import r2_score\n",
    "r2_score(y_test,Y_predict)"
   ]
  },
  {
   "cell_type": "code",
   "execution_count": null,
   "id": "8c5cce54",
   "metadata": {},
   "outputs": [],
   "source": []
  },
  {
   "cell_type": "code",
   "execution_count": null,
   "id": "a2780964",
   "metadata": {},
   "outputs": [],
   "source": []
  }
 ],
 "metadata": {
  "kernelspec": {
   "display_name": "Python 3 (ipykernel)",
   "language": "python",
   "name": "python3"
  },
  "language_info": {
   "codemirror_mode": {
    "name": "ipython",
    "version": 3
   },
   "file_extension": ".py",
   "mimetype": "text/x-python",
   "name": "python",
   "nbconvert_exporter": "python",
   "pygments_lexer": "ipython3",
   "version": "3.10.6"
  }
 },
 "nbformat": 4,
 "nbformat_minor": 5
}
